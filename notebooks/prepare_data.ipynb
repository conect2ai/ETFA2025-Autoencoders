{
 "cells": [
  {
   "cell_type": "markdown",
   "metadata": {},
   "source": [
    "# Import Libraries"
   ]
  },
  {
   "cell_type": "code",
   "execution_count": 1,
   "metadata": {},
   "outputs": [],
   "source": [
    "import os\n",
    "import pickle\n",
    "\n",
    "import numpy as np\n",
    "import pandas as pd\n",
    "\n",
    "from sklearn.preprocessing import MinMaxScaler\n",
    "\n",
    "from sklearn.model_selection import train_test_split\n",
    "\n",
    "import seaborn as sns"
   ]
  },
  {
   "cell_type": "markdown",
   "metadata": {},
   "source": [
    "# Data Acquisition"
   ]
  },
  {
   "cell_type": "code",
   "execution_count": 2,
   "metadata": {},
   "outputs": [],
   "source": [
    "data_gasoline = pd.read_csv(\"../data/gasoline_data_shifted.csv\")\n",
    "data_ethanol = pd.read_csv(\"../data/ethanol_data_shifted.csv\")"
   ]
  },
  {
   "cell_type": "code",
   "execution_count": 3,
   "metadata": {},
   "outputs": [
    {
     "data": {
      "text/html": [
       "<div>\n",
       "<style scoped>\n",
       "    .dataframe tbody tr th:only-of-type {\n",
       "        vertical-align: middle;\n",
       "    }\n",
       "\n",
       "    .dataframe tbody tr th {\n",
       "        vertical-align: top;\n",
       "    }\n",
       "\n",
       "    .dataframe thead th {\n",
       "        text-align: right;\n",
       "    }\n",
       "</style>\n",
       "<table border=\"1\" class=\"dataframe\">\n",
       "  <thead>\n",
       "    <tr style=\"text-align: right;\">\n",
       "      <th></th>\n",
       "      <th>EngineLoad_(t-2)</th>\n",
       "      <th>EngineLoad_(t-1)</th>\n",
       "      <th>EngineLoad_(t)</th>\n",
       "      <th>EngineRPM_(t-2)</th>\n",
       "      <th>EngineRPM_(t-1)</th>\n",
       "      <th>EngineRPM_(t)</th>\n",
       "      <th>SpeedOBD_(t-2)</th>\n",
       "      <th>SpeedOBD_(t-1)</th>\n",
       "      <th>SpeedOBD_(t)</th>\n",
       "      <th>ThrottlePosition_(t-2)</th>\n",
       "      <th>ThrottlePosition_(t-1)</th>\n",
       "      <th>ThrottlePosition_(t)</th>\n",
       "      <th>TimingAdvance_(t-2)</th>\n",
       "      <th>TimingAdvance_(t-1)</th>\n",
       "      <th>TimingAdvance_(t)</th>\n",
       "      <th>FuelType</th>\n",
       "    </tr>\n",
       "  </thead>\n",
       "  <tbody>\n",
       "    <tr>\n",
       "      <th>0</th>\n",
       "      <td>34.12</td>\n",
       "      <td>42.35</td>\n",
       "      <td>34.12</td>\n",
       "      <td>831.5</td>\n",
       "      <td>878.0</td>\n",
       "      <td>878.0</td>\n",
       "      <td>0</td>\n",
       "      <td>3.0</td>\n",
       "      <td>3.0</td>\n",
       "      <td>14.51</td>\n",
       "      <td>14.12</td>\n",
       "      <td>14.51</td>\n",
       "      <td>2.0</td>\n",
       "      <td>2.0</td>\n",
       "      <td>1.5</td>\n",
       "      <td>1</td>\n",
       "    </tr>\n",
       "    <tr>\n",
       "      <th>1</th>\n",
       "      <td>42.35</td>\n",
       "      <td>34.12</td>\n",
       "      <td>28.63</td>\n",
       "      <td>878.0</td>\n",
       "      <td>878.0</td>\n",
       "      <td>864.0</td>\n",
       "      <td>3</td>\n",
       "      <td>3.0</td>\n",
       "      <td>5.0</td>\n",
       "      <td>14.12</td>\n",
       "      <td>14.51</td>\n",
       "      <td>14.51</td>\n",
       "      <td>2.0</td>\n",
       "      <td>1.5</td>\n",
       "      <td>0.0</td>\n",
       "      <td>1</td>\n",
       "    </tr>\n",
       "    <tr>\n",
       "      <th>2</th>\n",
       "      <td>34.12</td>\n",
       "      <td>28.63</td>\n",
       "      <td>27.45</td>\n",
       "      <td>878.0</td>\n",
       "      <td>864.0</td>\n",
       "      <td>864.0</td>\n",
       "      <td>3</td>\n",
       "      <td>5.0</td>\n",
       "      <td>3.0</td>\n",
       "      <td>14.51</td>\n",
       "      <td>14.51</td>\n",
       "      <td>13.73</td>\n",
       "      <td>1.5</td>\n",
       "      <td>0.0</td>\n",
       "      <td>6.0</td>\n",
       "      <td>1</td>\n",
       "    </tr>\n",
       "    <tr>\n",
       "      <th>3</th>\n",
       "      <td>28.63</td>\n",
       "      <td>27.45</td>\n",
       "      <td>26.27</td>\n",
       "      <td>864.0</td>\n",
       "      <td>864.0</td>\n",
       "      <td>812.0</td>\n",
       "      <td>5</td>\n",
       "      <td>3.0</td>\n",
       "      <td>0.0</td>\n",
       "      <td>14.51</td>\n",
       "      <td>13.73</td>\n",
       "      <td>13.33</td>\n",
       "      <td>0.0</td>\n",
       "      <td>6.0</td>\n",
       "      <td>3.5</td>\n",
       "      <td>1</td>\n",
       "    </tr>\n",
       "    <tr>\n",
       "      <th>4</th>\n",
       "      <td>27.45</td>\n",
       "      <td>26.27</td>\n",
       "      <td>26.27</td>\n",
       "      <td>864.0</td>\n",
       "      <td>812.0</td>\n",
       "      <td>780.0</td>\n",
       "      <td>3</td>\n",
       "      <td>0.0</td>\n",
       "      <td>2.0</td>\n",
       "      <td>13.73</td>\n",
       "      <td>13.33</td>\n",
       "      <td>16.86</td>\n",
       "      <td>6.0</td>\n",
       "      <td>3.5</td>\n",
       "      <td>16.5</td>\n",
       "      <td>1</td>\n",
       "    </tr>\n",
       "  </tbody>\n",
       "</table>\n",
       "</div>"
      ],
      "text/plain": [
       "   EngineLoad_(t-2)  EngineLoad_(t-1)  EngineLoad_(t)  EngineRPM_(t-2)  \\\n",
       "0             34.12             42.35           34.12            831.5   \n",
       "1             42.35             34.12           28.63            878.0   \n",
       "2             34.12             28.63           27.45            878.0   \n",
       "3             28.63             27.45           26.27            864.0   \n",
       "4             27.45             26.27           26.27            864.0   \n",
       "\n",
       "   EngineRPM_(t-1)  EngineRPM_(t)  SpeedOBD_(t-2)  SpeedOBD_(t-1)  \\\n",
       "0            878.0          878.0               0             3.0   \n",
       "1            878.0          864.0               3             3.0   \n",
       "2            864.0          864.0               3             5.0   \n",
       "3            864.0          812.0               5             3.0   \n",
       "4            812.0          780.0               3             0.0   \n",
       "\n",
       "   SpeedOBD_(t)  ThrottlePosition_(t-2)  ThrottlePosition_(t-1)  \\\n",
       "0           3.0                   14.51                   14.12   \n",
       "1           5.0                   14.12                   14.51   \n",
       "2           3.0                   14.51                   14.51   \n",
       "3           0.0                   14.51                   13.73   \n",
       "4           2.0                   13.73                   13.33   \n",
       "\n",
       "   ThrottlePosition_(t)  TimingAdvance_(t-2)  TimingAdvance_(t-1)  \\\n",
       "0                 14.51                  2.0                  2.0   \n",
       "1                 14.51                  2.0                  1.5   \n",
       "2                 13.73                  1.5                  0.0   \n",
       "3                 13.33                  0.0                  6.0   \n",
       "4                 16.86                  6.0                  3.5   \n",
       "\n",
       "   TimingAdvance_(t)  FuelType  \n",
       "0                1.5         1  \n",
       "1                0.0         1  \n",
       "2                6.0         1  \n",
       "3                3.5         1  \n",
       "4               16.5         1  "
      ]
     },
     "execution_count": 3,
     "metadata": {},
     "output_type": "execute_result"
    }
   ],
   "source": [
    "data_gasoline.head()"
   ]
  },
  {
   "cell_type": "code",
   "execution_count": 4,
   "metadata": {},
   "outputs": [
    {
     "data": {
      "text/plain": [
       "(113317, 16)"
      ]
     },
     "execution_count": 4,
     "metadata": {},
     "output_type": "execute_result"
    }
   ],
   "source": [
    "data_gasoline.shape"
   ]
  },
  {
   "cell_type": "code",
   "execution_count": 5,
   "metadata": {},
   "outputs": [
    {
     "data": {
      "text/html": [
       "<div>\n",
       "<style scoped>\n",
       "    .dataframe tbody tr th:only-of-type {\n",
       "        vertical-align: middle;\n",
       "    }\n",
       "\n",
       "    .dataframe tbody tr th {\n",
       "        vertical-align: top;\n",
       "    }\n",
       "\n",
       "    .dataframe thead th {\n",
       "        text-align: right;\n",
       "    }\n",
       "</style>\n",
       "<table border=\"1\" class=\"dataframe\">\n",
       "  <thead>\n",
       "    <tr style=\"text-align: right;\">\n",
       "      <th></th>\n",
       "      <th>EngineLoad_(t-2)</th>\n",
       "      <th>EngineLoad_(t-1)</th>\n",
       "      <th>EngineLoad_(t)</th>\n",
       "      <th>EngineRPM_(t-2)</th>\n",
       "      <th>EngineRPM_(t-1)</th>\n",
       "      <th>EngineRPM_(t)</th>\n",
       "      <th>SpeedOBD_(t-2)</th>\n",
       "      <th>SpeedOBD_(t-1)</th>\n",
       "      <th>SpeedOBD_(t)</th>\n",
       "      <th>ThrottlePosition_(t-2)</th>\n",
       "      <th>ThrottlePosition_(t-1)</th>\n",
       "      <th>ThrottlePosition_(t)</th>\n",
       "      <th>TimingAdvance_(t-2)</th>\n",
       "      <th>TimingAdvance_(t-1)</th>\n",
       "      <th>TimingAdvance_(t)</th>\n",
       "      <th>FuelType</th>\n",
       "    </tr>\n",
       "  </thead>\n",
       "  <tbody>\n",
       "    <tr>\n",
       "      <th>0</th>\n",
       "      <td>36.08</td>\n",
       "      <td>36.08</td>\n",
       "      <td>26.67</td>\n",
       "      <td>931.5</td>\n",
       "      <td>810.5</td>\n",
       "      <td>767.0</td>\n",
       "      <td>5.0</td>\n",
       "      <td>0.0</td>\n",
       "      <td>0.0</td>\n",
       "      <td>14.51</td>\n",
       "      <td>13.33</td>\n",
       "      <td>13.33</td>\n",
       "      <td>15.0</td>\n",
       "      <td>-3.0</td>\n",
       "      <td>-3.0</td>\n",
       "      <td>0</td>\n",
       "    </tr>\n",
       "    <tr>\n",
       "      <th>1</th>\n",
       "      <td>36.08</td>\n",
       "      <td>26.67</td>\n",
       "      <td>27.45</td>\n",
       "      <td>810.5</td>\n",
       "      <td>767.0</td>\n",
       "      <td>767.0</td>\n",
       "      <td>0.0</td>\n",
       "      <td>0.0</td>\n",
       "      <td>0.0</td>\n",
       "      <td>13.33</td>\n",
       "      <td>13.33</td>\n",
       "      <td>13.33</td>\n",
       "      <td>-3.0</td>\n",
       "      <td>-3.0</td>\n",
       "      <td>3.0</td>\n",
       "      <td>0</td>\n",
       "    </tr>\n",
       "    <tr>\n",
       "      <th>2</th>\n",
       "      <td>26.67</td>\n",
       "      <td>27.45</td>\n",
       "      <td>27.45</td>\n",
       "      <td>767.0</td>\n",
       "      <td>767.0</td>\n",
       "      <td>734.5</td>\n",
       "      <td>0.0</td>\n",
       "      <td>0.0</td>\n",
       "      <td>0.0</td>\n",
       "      <td>13.33</td>\n",
       "      <td>13.33</td>\n",
       "      <td>13.73</td>\n",
       "      <td>-3.0</td>\n",
       "      <td>3.0</td>\n",
       "      <td>-1.0</td>\n",
       "      <td>0</td>\n",
       "    </tr>\n",
       "    <tr>\n",
       "      <th>3</th>\n",
       "      <td>27.45</td>\n",
       "      <td>27.45</td>\n",
       "      <td>47.84</td>\n",
       "      <td>767.0</td>\n",
       "      <td>734.5</td>\n",
       "      <td>1347.5</td>\n",
       "      <td>0.0</td>\n",
       "      <td>0.0</td>\n",
       "      <td>0.0</td>\n",
       "      <td>13.33</td>\n",
       "      <td>13.73</td>\n",
       "      <td>16.08</td>\n",
       "      <td>3.0</td>\n",
       "      <td>-1.0</td>\n",
       "      <td>19.5</td>\n",
       "      <td>0</td>\n",
       "    </tr>\n",
       "    <tr>\n",
       "      <th>4</th>\n",
       "      <td>27.45</td>\n",
       "      <td>47.84</td>\n",
       "      <td>36.08</td>\n",
       "      <td>734.5</td>\n",
       "      <td>1347.5</td>\n",
       "      <td>1347.5</td>\n",
       "      <td>0.0</td>\n",
       "      <td>0.0</td>\n",
       "      <td>0.0</td>\n",
       "      <td>13.73</td>\n",
       "      <td>16.08</td>\n",
       "      <td>16.08</td>\n",
       "      <td>-1.0</td>\n",
       "      <td>19.5</td>\n",
       "      <td>19.5</td>\n",
       "      <td>0</td>\n",
       "    </tr>\n",
       "  </tbody>\n",
       "</table>\n",
       "</div>"
      ],
      "text/plain": [
       "   EngineLoad_(t-2)  EngineLoad_(t-1)  EngineLoad_(t)  EngineRPM_(t-2)  \\\n",
       "0             36.08             36.08           26.67            931.5   \n",
       "1             36.08             26.67           27.45            810.5   \n",
       "2             26.67             27.45           27.45            767.0   \n",
       "3             27.45             27.45           47.84            767.0   \n",
       "4             27.45             47.84           36.08            734.5   \n",
       "\n",
       "   EngineRPM_(t-1)  EngineRPM_(t)  SpeedOBD_(t-2)  SpeedOBD_(t-1)  \\\n",
       "0            810.5          767.0             5.0             0.0   \n",
       "1            767.0          767.0             0.0             0.0   \n",
       "2            767.0          734.5             0.0             0.0   \n",
       "3            734.5         1347.5             0.0             0.0   \n",
       "4           1347.5         1347.5             0.0             0.0   \n",
       "\n",
       "   SpeedOBD_(t)  ThrottlePosition_(t-2)  ThrottlePosition_(t-1)  \\\n",
       "0           0.0                   14.51                   13.33   \n",
       "1           0.0                   13.33                   13.33   \n",
       "2           0.0                   13.33                   13.33   \n",
       "3           0.0                   13.33                   13.73   \n",
       "4           0.0                   13.73                   16.08   \n",
       "\n",
       "   ThrottlePosition_(t)  TimingAdvance_(t-2)  TimingAdvance_(t-1)  \\\n",
       "0                 13.33                 15.0                 -3.0   \n",
       "1                 13.33                 -3.0                 -3.0   \n",
       "2                 13.73                 -3.0                  3.0   \n",
       "3                 16.08                  3.0                 -1.0   \n",
       "4                 16.08                 -1.0                 19.5   \n",
       "\n",
       "   TimingAdvance_(t)  FuelType  \n",
       "0               -3.0         0  \n",
       "1                3.0         0  \n",
       "2               -1.0         0  \n",
       "3               19.5         0  \n",
       "4               19.5         0  "
      ]
     },
     "execution_count": 5,
     "metadata": {},
     "output_type": "execute_result"
    }
   ],
   "source": [
    "data_ethanol.head()"
   ]
  },
  {
   "cell_type": "code",
   "execution_count": 6,
   "metadata": {},
   "outputs": [
    {
     "data": {
      "text/plain": [
       "(92432, 16)"
      ]
     },
     "execution_count": 6,
     "metadata": {},
     "output_type": "execute_result"
    }
   ],
   "source": [
    "data_ethanol.shape"
   ]
  },
  {
   "cell_type": "markdown",
   "metadata": {},
   "source": [
    "# New Dataset"
   ]
  },
  {
   "cell_type": "code",
   "execution_count": 7,
   "metadata": {},
   "outputs": [],
   "source": [
    "fuel_data_shifted = pd.concat([\n",
    "    data_gasoline,\n",
    "    data_ethanol\n",
    "], axis=0)"
   ]
  },
  {
   "cell_type": "code",
   "execution_count": 8,
   "metadata": {},
   "outputs": [
    {
     "data": {
      "text/html": [
       "<div>\n",
       "<style scoped>\n",
       "    .dataframe tbody tr th:only-of-type {\n",
       "        vertical-align: middle;\n",
       "    }\n",
       "\n",
       "    .dataframe tbody tr th {\n",
       "        vertical-align: top;\n",
       "    }\n",
       "\n",
       "    .dataframe thead th {\n",
       "        text-align: right;\n",
       "    }\n",
       "</style>\n",
       "<table border=\"1\" class=\"dataframe\">\n",
       "  <thead>\n",
       "    <tr style=\"text-align: right;\">\n",
       "      <th></th>\n",
       "      <th>EngineLoad_(t-2)</th>\n",
       "      <th>EngineLoad_(t-1)</th>\n",
       "      <th>EngineLoad_(t)</th>\n",
       "      <th>EngineRPM_(t-2)</th>\n",
       "      <th>EngineRPM_(t-1)</th>\n",
       "      <th>EngineRPM_(t)</th>\n",
       "      <th>SpeedOBD_(t-2)</th>\n",
       "      <th>SpeedOBD_(t-1)</th>\n",
       "      <th>SpeedOBD_(t)</th>\n",
       "      <th>ThrottlePosition_(t-2)</th>\n",
       "      <th>ThrottlePosition_(t-1)</th>\n",
       "      <th>ThrottlePosition_(t)</th>\n",
       "      <th>TimingAdvance_(t-2)</th>\n",
       "      <th>TimingAdvance_(t-1)</th>\n",
       "      <th>TimingAdvance_(t)</th>\n",
       "      <th>FuelType</th>\n",
       "    </tr>\n",
       "  </thead>\n",
       "  <tbody>\n",
       "    <tr>\n",
       "      <th>0</th>\n",
       "      <td>34.12</td>\n",
       "      <td>42.35</td>\n",
       "      <td>34.12</td>\n",
       "      <td>831.5</td>\n",
       "      <td>878.0</td>\n",
       "      <td>878.0</td>\n",
       "      <td>0.0</td>\n",
       "      <td>3.0</td>\n",
       "      <td>3.0</td>\n",
       "      <td>14.51</td>\n",
       "      <td>14.12</td>\n",
       "      <td>14.51</td>\n",
       "      <td>2.0</td>\n",
       "      <td>2.0</td>\n",
       "      <td>1.5</td>\n",
       "      <td>1</td>\n",
       "    </tr>\n",
       "    <tr>\n",
       "      <th>1</th>\n",
       "      <td>42.35</td>\n",
       "      <td>34.12</td>\n",
       "      <td>28.63</td>\n",
       "      <td>878.0</td>\n",
       "      <td>878.0</td>\n",
       "      <td>864.0</td>\n",
       "      <td>3.0</td>\n",
       "      <td>3.0</td>\n",
       "      <td>5.0</td>\n",
       "      <td>14.12</td>\n",
       "      <td>14.51</td>\n",
       "      <td>14.51</td>\n",
       "      <td>2.0</td>\n",
       "      <td>1.5</td>\n",
       "      <td>0.0</td>\n",
       "      <td>1</td>\n",
       "    </tr>\n",
       "    <tr>\n",
       "      <th>2</th>\n",
       "      <td>34.12</td>\n",
       "      <td>28.63</td>\n",
       "      <td>27.45</td>\n",
       "      <td>878.0</td>\n",
       "      <td>864.0</td>\n",
       "      <td>864.0</td>\n",
       "      <td>3.0</td>\n",
       "      <td>5.0</td>\n",
       "      <td>3.0</td>\n",
       "      <td>14.51</td>\n",
       "      <td>14.51</td>\n",
       "      <td>13.73</td>\n",
       "      <td>1.5</td>\n",
       "      <td>0.0</td>\n",
       "      <td>6.0</td>\n",
       "      <td>1</td>\n",
       "    </tr>\n",
       "    <tr>\n",
       "      <th>3</th>\n",
       "      <td>28.63</td>\n",
       "      <td>27.45</td>\n",
       "      <td>26.27</td>\n",
       "      <td>864.0</td>\n",
       "      <td>864.0</td>\n",
       "      <td>812.0</td>\n",
       "      <td>5.0</td>\n",
       "      <td>3.0</td>\n",
       "      <td>0.0</td>\n",
       "      <td>14.51</td>\n",
       "      <td>13.73</td>\n",
       "      <td>13.33</td>\n",
       "      <td>0.0</td>\n",
       "      <td>6.0</td>\n",
       "      <td>3.5</td>\n",
       "      <td>1</td>\n",
       "    </tr>\n",
       "    <tr>\n",
       "      <th>4</th>\n",
       "      <td>27.45</td>\n",
       "      <td>26.27</td>\n",
       "      <td>26.27</td>\n",
       "      <td>864.0</td>\n",
       "      <td>812.0</td>\n",
       "      <td>780.0</td>\n",
       "      <td>3.0</td>\n",
       "      <td>0.0</td>\n",
       "      <td>2.0</td>\n",
       "      <td>13.73</td>\n",
       "      <td>13.33</td>\n",
       "      <td>16.86</td>\n",
       "      <td>6.0</td>\n",
       "      <td>3.5</td>\n",
       "      <td>16.5</td>\n",
       "      <td>1</td>\n",
       "    </tr>\n",
       "  </tbody>\n",
       "</table>\n",
       "</div>"
      ],
      "text/plain": [
       "   EngineLoad_(t-2)  EngineLoad_(t-1)  EngineLoad_(t)  EngineRPM_(t-2)  \\\n",
       "0             34.12             42.35           34.12            831.5   \n",
       "1             42.35             34.12           28.63            878.0   \n",
       "2             34.12             28.63           27.45            878.0   \n",
       "3             28.63             27.45           26.27            864.0   \n",
       "4             27.45             26.27           26.27            864.0   \n",
       "\n",
       "   EngineRPM_(t-1)  EngineRPM_(t)  SpeedOBD_(t-2)  SpeedOBD_(t-1)  \\\n",
       "0            878.0          878.0             0.0             3.0   \n",
       "1            878.0          864.0             3.0             3.0   \n",
       "2            864.0          864.0             3.0             5.0   \n",
       "3            864.0          812.0             5.0             3.0   \n",
       "4            812.0          780.0             3.0             0.0   \n",
       "\n",
       "   SpeedOBD_(t)  ThrottlePosition_(t-2)  ThrottlePosition_(t-1)  \\\n",
       "0           3.0                   14.51                   14.12   \n",
       "1           5.0                   14.12                   14.51   \n",
       "2           3.0                   14.51                   14.51   \n",
       "3           0.0                   14.51                   13.73   \n",
       "4           2.0                   13.73                   13.33   \n",
       "\n",
       "   ThrottlePosition_(t)  TimingAdvance_(t-2)  TimingAdvance_(t-1)  \\\n",
       "0                 14.51                  2.0                  2.0   \n",
       "1                 14.51                  2.0                  1.5   \n",
       "2                 13.73                  1.5                  0.0   \n",
       "3                 13.33                  0.0                  6.0   \n",
       "4                 16.86                  6.0                  3.5   \n",
       "\n",
       "   TimingAdvance_(t)  FuelType  \n",
       "0                1.5         1  \n",
       "1                0.0         1  \n",
       "2                6.0         1  \n",
       "3                3.5         1  \n",
       "4               16.5         1  "
      ]
     },
     "execution_count": 8,
     "metadata": {},
     "output_type": "execute_result"
    }
   ],
   "source": [
    "fuel_data_shifted.head()"
   ]
  },
  {
   "cell_type": "code",
   "execution_count": 9,
   "metadata": {},
   "outputs": [
    {
     "data": {
      "text/plain": [
       "FuelType\n",
       "1    0.550754\n",
       "0    0.449246\n",
       "Name: proportion, dtype: float64"
      ]
     },
     "execution_count": 9,
     "metadata": {},
     "output_type": "execute_result"
    }
   ],
   "source": [
    "fuel_data_shifted[\"FuelType\"].value_counts(normalize=True)"
   ]
  },
  {
   "cell_type": "code",
   "execution_count": 10,
   "metadata": {},
   "outputs": [],
   "source": [
    "train_data, temp_data = train_test_split(fuel_data_shifted, test_size=0.2, random_state=42, stratify=fuel_data_shifted[\"FuelType\"])\n",
    "val_data, test_data = train_test_split(temp_data, test_size=0.5, random_state=42, stratify=temp_data[\"FuelType\"])"
   ]
  },
  {
   "cell_type": "code",
   "execution_count": 11,
   "metadata": {},
   "outputs": [
    {
     "data": {
      "text/plain": [
       "FuelType\n",
       "1    0.550751\n",
       "0    0.449249\n",
       "Name: proportion, dtype: float64"
      ]
     },
     "execution_count": 11,
     "metadata": {},
     "output_type": "execute_result"
    }
   ],
   "source": [
    "train_data[\"FuelType\"].value_counts(normalize=True)"
   ]
  },
  {
   "cell_type": "code",
   "execution_count": 12,
   "metadata": {},
   "outputs": [
    {
     "data": {
      "text/plain": [
       "FuelType\n",
       "1    0.550765\n",
       "0    0.449235\n",
       "Name: proportion, dtype: float64"
      ]
     },
     "execution_count": 12,
     "metadata": {},
     "output_type": "execute_result"
    }
   ],
   "source": [
    "val_data[\"FuelType\"].value_counts(normalize=True)"
   ]
  },
  {
   "cell_type": "code",
   "execution_count": 13,
   "metadata": {},
   "outputs": [
    {
     "data": {
      "text/plain": [
       "FuelType\n",
       "1    0.550765\n",
       "0    0.449235\n",
       "Name: proportion, dtype: float64"
      ]
     },
     "execution_count": 13,
     "metadata": {},
     "output_type": "execute_result"
    }
   ],
   "source": [
    "test_data[\"FuelType\"].value_counts(normalize=True)"
   ]
  },
  {
   "cell_type": "code",
   "execution_count": 21,
   "metadata": {},
   "outputs": [
    {
     "data": {
      "text/plain": [
       "EngineLoad_(t-2)            28.804477\n",
       "EngineRPM_(t-2)           1399.148364\n",
       "SpeedOBD_(t-2)              32.155463\n",
       "ThrottlePosition_(t-2)      17.957185\n",
       "TimingAdvance_(t-2)          9.414875\n",
       "dtype: float64"
      ]
     },
     "execution_count": 21,
     "metadata": {},
     "output_type": "execute_result"
    }
   ],
   "source": [
    "train_data.iloc[:, :-1:3].mean()"
   ]
  },
  {
   "cell_type": "code",
   "execution_count": 22,
   "metadata": {},
   "outputs": [
    {
     "data": {
      "text/plain": [
       "EngineLoad_(t-2)           15.827171\n",
       "EngineRPM_(t-2)           519.767668\n",
       "SpeedOBD_(t-2)             28.234655\n",
       "ThrottlePosition_(t-2)      8.784691\n",
       "TimingAdvance_(t-2)        10.843215\n",
       "dtype: float64"
      ]
     },
     "execution_count": 22,
     "metadata": {},
     "output_type": "execute_result"
    }
   ],
   "source": [
    "train_data.iloc[:, :-1:3].std()"
   ]
  },
  {
   "cell_type": "markdown",
   "metadata": {},
   "source": [
    "# Scalling"
   ]
  },
  {
   "cell_type": "code",
   "execution_count": 14,
   "metadata": {},
   "outputs": [],
   "source": [
    "if not \"../models/data-normalizer.pkl\" in os.listdir():\n",
    "    scaler_shifted = MinMaxScaler()\n",
    "    normalized_train = scaler_shifted.fit_transform(train_data).astype(np.float32)\n",
    "\n",
    "    with open(\"../models/data-normalizer.pkl\", \"wb\") as f:\n",
    "        pickle.dump(scaler_shifted, f)\n",
    "else:\n",
    "    with open(\"../models/data-normalizer.pkl\", \"rb\") as f:\n",
    "        scaler_shifted = pickle.load(f)"
   ]
  },
  {
   "cell_type": "code",
   "execution_count": 15,
   "metadata": {},
   "outputs": [],
   "source": [
    "normalized_val = scaler_shifted.transform(val_data).astype(np.float32)\n",
    "normalized_test = scaler_shifted.transform(test_data).astype(np.float32)\n",
    "\n",
    "normalized_train = scaler_shifted.transform(train_data).astype(np.float32)"
   ]
  },
  {
   "cell_type": "markdown",
   "metadata": {},
   "source": [
    "# Saving"
   ]
  },
  {
   "cell_type": "code",
   "execution_count": 16,
   "metadata": {},
   "outputs": [
    {
     "data": {
      "text/plain": [
       "(164599, 16)"
      ]
     },
     "execution_count": 16,
     "metadata": {},
     "output_type": "execute_result"
    }
   ],
   "source": [
    "pd.DataFrame(\n",
    "    normalized_train,\n",
    "    columns=train_data.columns\n",
    ").to_csv(\"../data/normalized_train.csv\", index=False)\n",
    "\n",
    "normalized_train.shape"
   ]
  },
  {
   "cell_type": "code",
   "execution_count": 17,
   "metadata": {},
   "outputs": [
    {
     "data": {
      "text/plain": [
       "(20575, 16)"
      ]
     },
     "execution_count": 17,
     "metadata": {},
     "output_type": "execute_result"
    }
   ],
   "source": [
    "pd.DataFrame(\n",
    "    normalized_val,\n",
    "    columns=val_data.columns\n",
    ").to_csv(\"../data/normalized_val.csv\", index=False)\n",
    "\n",
    "normalized_val.shape"
   ]
  },
  {
   "cell_type": "code",
   "execution_count": 18,
   "metadata": {},
   "outputs": [
    {
     "data": {
      "text/plain": [
       "(20575, 16)"
      ]
     },
     "execution_count": 18,
     "metadata": {},
     "output_type": "execute_result"
    }
   ],
   "source": [
    "pd.DataFrame(\n",
    "    normalized_test,\n",
    "    columns=test_data.columns\n",
    ").to_csv(\"../data/normalized_test.csv\", index=False)\n",
    "\n",
    "normalized_test.shape"
   ]
  },
  {
   "cell_type": "code",
   "execution_count": null,
   "metadata": {},
   "outputs": [],
   "source": [
    "with open(\"../data/scaler_output.txt\", 'w') as f:\n",
    "    f.write(f\"Min: {scaler_shifted.data_min_}\\n\")\n",
    "    f.write(f\"Max: {scaler_shifted.data_max_}\\n\")\n",
    "    f.write(f\"Interval: {scaler_shifted.data_range_}\\n\")\n",
    "    f.write(f\"Scale: {scaler_shifted.scale_}\\n\")"
   ]
  },
  {
   "cell_type": "code",
   "execution_count": null,
   "metadata": {},
   "outputs": [],
   "source": [
    "import pandas as pd"
   ]
  },
  {
   "cell_type": "code",
   "execution_count": 5,
   "metadata": {},
   "outputs": [],
   "source": [
    "pd.read_csv(\"../data/normalized_test.csv\").iloc[:500].to_csv(\"./normalized_test_freematics.csv\", index=False)"
   ]
  },
  {
   "cell_type": "code",
   "execution_count": 4,
   "metadata": {},
   "outputs": [],
   "source": [
    "pd.read_csv(\"../data/df_test.csv\").iloc[:500].to_csv(\"./df_test_freematics.csv\", index=False)"
   ]
  },
  {
   "cell_type": "code",
   "execution_count": null,
   "metadata": {},
   "outputs": [],
   "source": []
  }
 ],
 "metadata": {
  "kernelspec": {
   "display_name": "etfa2025-autoencoder",
   "language": "python",
   "name": "python3"
  },
  "language_info": {
   "codemirror_mode": {
    "name": "ipython",
    "version": 3
   },
   "file_extension": ".py",
   "mimetype": "text/x-python",
   "name": "python",
   "nbconvert_exporter": "python",
   "pygments_lexer": "ipython3",
   "version": "3.12.9"
  }
 },
 "nbformat": 4,
 "nbformat_minor": 2
}
